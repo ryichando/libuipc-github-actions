{
 "cells": [
  {
   "cell_type": "code",
   "execution_count": 170,
   "metadata": {},
   "outputs": [],
   "source": [
    "import sympy as sp\n",
    "from sympy import symbols, integrate, expand"
   ]
  },
  {
   "cell_type": "markdown",
   "metadata": {},
   "source": [
    "# Basic\n",
    "\n",
    "$x = J q$"
   ]
  },
  {
   "cell_type": "code",
   "execution_count": 171,
   "metadata": {},
   "outputs": [
    {
     "data": {
      "text/latex": [
       "$\\displaystyle \\left[\\begin{matrix}\\bar{x}_1\\\\\\bar{x}_2\\\\\\bar{x}_3\\end{matrix}\\right]$"
      ],
      "text/plain": [
       "Matrix([\n",
       "[\\bar{x}_1],\n",
       "[\\bar{x}_2],\n",
       "[\\bar{x}_3]])"
      ]
     },
     "execution_count": 171,
     "metadata": {},
     "output_type": "execute_result"
    }
   ],
   "source": [
    "xbars = symbols('\\\\bar{x}_1 \\\\bar{x}_2 \\\\bar{x}_3', real=True)\n",
    "xbar = sp.Matrix(xbars)\n",
    "xbar"
   ]
  },
  {
   "cell_type": "code",
   "execution_count": 172,
   "metadata": {},
   "outputs": [
    {
     "data": {
      "text/latex": [
       "$\\displaystyle \\left[\\begin{array}{cccccccccccc}1 & 0 & 0 & \\bar{x}_1 & \\bar{x}_2 & \\bar{x}_3 & 0 & 0 & 0 & 0 & 0 & 0\\\\0 & 1 & 0 & 0 & 0 & 0 & \\bar{x}_1 & \\bar{x}_2 & \\bar{x}_3 & 0 & 0 & 0\\\\0 & 0 & 1 & 0 & 0 & 0 & 0 & 0 & 0 & \\bar{x}_1 & \\bar{x}_2 & \\bar{x}_3\\end{array}\\right]$"
      ],
      "text/plain": [
       "Matrix([\n",
       "[1, 0, 0, \\bar{x}_1, \\bar{x}_2, \\bar{x}_3,         0,         0,         0,         0,         0,         0],\n",
       "[0, 1, 0,         0,         0,         0, \\bar{x}_1, \\bar{x}_2, \\bar{x}_3,         0,         0,         0],\n",
       "[0, 0, 1,         0,         0,         0,         0,         0,         0, \\bar{x}_1, \\bar{x}_2, \\bar{x}_3]])"
      ]
     },
     "execution_count": 172,
     "metadata": {},
     "output_type": "execute_result"
    }
   ],
   "source": [
    "J = sp.Matrix.zeros(3,12)\n",
    "J[0:3,0:3] = sp.eye(3)\n",
    "J[0,3:6] = xbar.T\n",
    "J[1,6:9] = xbar.T\n",
    "J[2,9:12] = xbar.T\n",
    "J"
   ]
  },
  {
   "cell_type": "code",
   "execution_count": 173,
   "metadata": {},
   "outputs": [
    {
     "data": {
      "text/latex": [
       "$\\displaystyle \\left[\\begin{matrix}x_{1}\\\\x_{2}\\\\x_{3}\\\\\\bar{x}_1 x_{1}\\\\\\bar{x}_2 x_{1}\\\\\\bar{x}_3 x_{1}\\\\\\bar{x}_1 x_{2}\\\\\\bar{x}_2 x_{2}\\\\\\bar{x}_3 x_{2}\\\\\\bar{x}_1 x_{3}\\\\\\bar{x}_2 x_{3}\\\\\\bar{x}_3 x_{3}\\end{matrix}\\right]$"
      ],
      "text/plain": [
       "Matrix([\n",
       "[          x_1],\n",
       "[          x_2],\n",
       "[          x_3],\n",
       "[\\bar{x}_1*x_1],\n",
       "[\\bar{x}_2*x_1],\n",
       "[\\bar{x}_3*x_1],\n",
       "[\\bar{x}_1*x_2],\n",
       "[\\bar{x}_2*x_2],\n",
       "[\\bar{x}_3*x_2],\n",
       "[\\bar{x}_1*x_3],\n",
       "[\\bar{x}_2*x_3],\n",
       "[\\bar{x}_3*x_3]])"
      ]
     },
     "execution_count": 173,
     "metadata": {},
     "output_type": "execute_result"
    }
   ],
   "source": [
    "x = symbols('x_1 x_2 x_3', real=True)\n",
    "x = sp.Matrix(x)\n",
    "\n",
    "J.T * x"
   ]
  },
  {
   "cell_type": "code",
   "execution_count": 174,
   "metadata": {},
   "outputs": [
    {
     "data": {
      "text/latex": [
       "$\\displaystyle \\left[\\begin{array}{cccccccccccc}1 & 0 & 0 & \\bar{x}_1 & \\bar{x}_2 & \\bar{x}_3 & 0 & 0 & 0 & 0 & 0 & 0\\\\0 & 1 & 0 & 0 & 0 & 0 & \\bar{x}_1 & \\bar{x}_2 & \\bar{x}_3 & 0 & 0 & 0\\\\0 & 0 & 1 & 0 & 0 & 0 & 0 & 0 & 0 & \\bar{x}_1 & \\bar{x}_2 & \\bar{x}_3\\\\\\bar{x}_1 & 0 & 0 & \\bar{x}_1^{2} & \\bar{x}_1 \\bar{x}_2 & \\bar{x}_1 \\bar{x}_3 & 0 & 0 & 0 & 0 & 0 & 0\\\\\\bar{x}_2 & 0 & 0 & \\bar{x}_1 \\bar{x}_2 & \\bar{x}_2^{2} & \\bar{x}_2 \\bar{x}_3 & 0 & 0 & 0 & 0 & 0 & 0\\\\\\bar{x}_3 & 0 & 0 & \\bar{x}_1 \\bar{x}_3 & \\bar{x}_2 \\bar{x}_3 & \\bar{x}_3^{2} & 0 & 0 & 0 & 0 & 0 & 0\\\\0 & \\bar{x}_1 & 0 & 0 & 0 & 0 & \\bar{x}_1^{2} & \\bar{x}_1 \\bar{x}_2 & \\bar{x}_1 \\bar{x}_3 & 0 & 0 & 0\\\\0 & \\bar{x}_2 & 0 & 0 & 0 & 0 & \\bar{x}_1 \\bar{x}_2 & \\bar{x}_2^{2} & \\bar{x}_2 \\bar{x}_3 & 0 & 0 & 0\\\\0 & \\bar{x}_3 & 0 & 0 & 0 & 0 & \\bar{x}_1 \\bar{x}_3 & \\bar{x}_2 \\bar{x}_3 & \\bar{x}_3^{2} & 0 & 0 & 0\\\\0 & 0 & \\bar{x}_1 & 0 & 0 & 0 & 0 & 0 & 0 & \\bar{x}_1^{2} & \\bar{x}_1 \\bar{x}_2 & \\bar{x}_1 \\bar{x}_3\\\\0 & 0 & \\bar{x}_2 & 0 & 0 & 0 & 0 & 0 & 0 & \\bar{x}_1 \\bar{x}_2 & \\bar{x}_2^{2} & \\bar{x}_2 \\bar{x}_3\\\\0 & 0 & \\bar{x}_3 & 0 & 0 & 0 & 0 & 0 & 0 & \\bar{x}_1 \\bar{x}_3 & \\bar{x}_2 \\bar{x}_3 & \\bar{x}_3^{2}\\end{array}\\right]$"
      ],
      "text/plain": [
       "Matrix([\n",
       "[        1,         0,         0,           \\bar{x}_1,           \\bar{x}_2,           \\bar{x}_3,                   0,                   0,                   0,                   0,                   0,                   0],\n",
       "[        0,         1,         0,                   0,                   0,                   0,           \\bar{x}_1,           \\bar{x}_2,           \\bar{x}_3,                   0,                   0,                   0],\n",
       "[        0,         0,         1,                   0,                   0,                   0,                   0,                   0,                   0,           \\bar{x}_1,           \\bar{x}_2,           \\bar{x}_3],\n",
       "[\\bar{x}_1,         0,         0,        \\bar{x}_1**2, \\bar{x}_1*\\bar{x}_2, \\bar{x}_1*\\bar{x}_3,                   0,                   0,                   0,                   0,                   0,                   0],\n",
       "[\\bar{x}_2,         0,         0, \\bar{x}_1*\\bar{x}_2,        \\bar{x}_2**2, \\bar{x}_2*\\bar{x}_3,                   0,                   0,                   0,                   0,                   0,                   0],\n",
       "[\\bar{x}_3,         0,         0, \\bar{x}_1*\\bar{x}_3, \\bar{x}_2*\\bar{x}_3,        \\bar{x}_3**2,                   0,                   0,                   0,                   0,                   0,                   0],\n",
       "[        0, \\bar{x}_1,         0,                   0,                   0,                   0,        \\bar{x}_1**2, \\bar{x}_1*\\bar{x}_2, \\bar{x}_1*\\bar{x}_3,                   0,                   0,                   0],\n",
       "[        0, \\bar{x}_2,         0,                   0,                   0,                   0, \\bar{x}_1*\\bar{x}_2,        \\bar{x}_2**2, \\bar{x}_2*\\bar{x}_3,                   0,                   0,                   0],\n",
       "[        0, \\bar{x}_3,         0,                   0,                   0,                   0, \\bar{x}_1*\\bar{x}_3, \\bar{x}_2*\\bar{x}_3,        \\bar{x}_3**2,                   0,                   0,                   0],\n",
       "[        0,         0, \\bar{x}_1,                   0,                   0,                   0,                   0,                   0,                   0,        \\bar{x}_1**2, \\bar{x}_1*\\bar{x}_2, \\bar{x}_1*\\bar{x}_3],\n",
       "[        0,         0, \\bar{x}_2,                   0,                   0,                   0,                   0,                   0,                   0, \\bar{x}_1*\\bar{x}_2,        \\bar{x}_2**2, \\bar{x}_2*\\bar{x}_3],\n",
       "[        0,         0, \\bar{x}_3,                   0,                   0,                   0,                   0,                   0,                   0, \\bar{x}_1*\\bar{x}_3, \\bar{x}_2*\\bar{x}_3,        \\bar{x}_3**2]])"
      ]
     },
     "execution_count": 174,
     "metadata": {},
     "output_type": "execute_result"
    }
   ],
   "source": [
    "J.T * J"
   ]
  },
  {
   "cell_type": "markdown",
   "metadata": {},
   "source": [
    "To integrate on the volume of a discrete Affine Body, we can:\n",
    "\n",
    "1. using volume integral formula directly\n",
    "2. using divergence theorem to convert the volume integral to a surface integral\n",
    "\n",
    "We will do both way in this notebook."
   ]
  },
  {
   "cell_type": "markdown",
   "metadata": {},
   "source": [
    "First, we define the symbols we will use in the calculations:"
   ]
  },
  {
   "cell_type": "code",
   "execution_count": 175,
   "metadata": {},
   "outputs": [],
   "source": [
    "p_0a, p_0b = symbols('p_0^alpha p_0^beta')\n",
    "p_1a, p_1b = symbols('p_1^alpha p_1^beta')\n",
    "p_2a, p_2b = symbols('p_2^alpha p_2^beta')\n",
    "p_3a, p_3b = symbols('p_3^alpha p_3^beta')\n",
    "\n",
    "e_1a, e_1b = symbols('e_1^alpha e_1^beta')\n",
    "e_2a, e_2b = symbols('e_2^alpha e_2^beta')\n",
    "e_3a, e_3b = symbols('e_3^alpha e_3^beta')\n",
    "\n",
    "expr_e_1a, expr_e_1b = p_1a - p_0a, p_1b - p_0b\n",
    "expr_e_2a, expr_e_2b = p_2a - p_0a, p_2b - p_0b\n",
    "expr_e_3a, expr_e_3b = p_3a - p_0a, p_3b - p_0b"
   ]
  },
  {
   "cell_type": "markdown",
   "metadata": {},
   "source": [
    "\n",
    "# Volume Integral\n",
    "\n",
    "To integrate on the volume, we need user to provide a tetmesh of the body. With the tetmesh, we can directly calculate the volume of every tetrahedron and sum them up. Say we have $N$ tetrahedrons, the volume of the body is:\n",
    "\n",
    "$$\n",
    "V = \\sum_i^N V_i = \\sum_i^N \\int_{\\Omega_i} dV\n",
    "$$\n",
    "\n",
    "We do integration on each tetrahedron.\n",
    "\n",
    "For a tetrahedron with vertices $p_0, p_1, p_2, p_3$, we define:\n",
    "\n",
    "$$\n",
    "e_1 = p_1 - p_0, e_2 = p_2 - p_0, e_3 = p_3 - p_0\n",
    "$$\n",
    "\n",
    "the parameterization of any point $p$ in the tetrahedron is:\n",
    "\n",
    "$$\n",
    "p = p_0 + e_1 u + e_2 v + e_3 w, u,v,w \\in [0,1], u+v+w \\le 1 \n",
    "$$\n",
    "\n",
    "The volume of the tetrahedron is:\n",
    "\n",
    "$$\n",
    "V_i = \\int_{\\Omega_i} dV = \\int_{\\Omega_i} det(e_1, e_2, e_3) du dv dw = det(e_1, e_2, e_3) \\int_{\\Omega_i} du dv dw\n",
    "$$\n",
    "\n",
    "So how to calculate the integral $\\int_{\\Omega_i} du dv dw$?"
   ]
  },
  {
   "cell_type": "code",
   "execution_count": 176,
   "metadata": {},
   "outputs": [
    {
     "data": {
      "text/latex": [
       "$\\displaystyle \\frac{1}{6}$"
      ],
      "text/plain": [
       "1/6"
      ]
     },
     "execution_count": 176,
     "metadata": {},
     "output_type": "execute_result"
    }
   ],
   "source": [
    "u,v,w = symbols('u v w')\n",
    "\n",
    "fvw = integrate(1, (u, 0, 1-v-w))\n",
    "fw = integrate(fvw, (v, 0, 1-w))\n",
    "f = integrate(fw, (w, 0, 1))\n",
    "\n",
    "f"
   ]
  },
  {
   "cell_type": "markdown",
   "metadata": {},
   "source": [
    "$\\frac{1}{6}$.\n",
    "\n",
    "So the volume of the tetrahedron is:\n",
    "\n",
    "$$\n",
    "V_i = \\frac{1}{6} det(e_1, e_2, e_3) = \\frac{1}{6} e_1 \\cdot (e_2 \\times e_3)\n",
    "$$\n",
    "\n",
    "Is just how we calculate the tetrahedron volume geometrically!\n",
    "\n",
    "So if we have a uniform mass density $\\rho$, the mass of the tetrahedron is:\n",
    "\n",
    "$$\n",
    "m_i = \\rho V_i = \\frac{\\rho}{6} e_1 \\cdot (e_2 \\times e_3)\n",
    "$$\n",
    "\n",
    "When we calculate the mass matrix of affine body, we not only need the `mass` but also other terms.\n",
    "\n",
    "$$\n",
    "(mx^\\alpha) = \\int_{\\Omega} \\rho x^\\alpha dV = \\sum_{i=1}^N \\int_{\\Omega_i} \\rho x^\\alpha dV, \\alpha = 1,2,3\n",
    "$$\n",
    "\n",
    "and\n",
    "\n",
    "$$\n",
    "(mx^\\alpha x^\\beta) = \\int_{\\Omega} \\rho x^\\alpha x^\\beta dV = \\sum_{i=1}^N \\int_{\\Omega_i} \\rho x^\\alpha x^\\beta dV, \\alpha, \\beta = 1,2,3\n",
    "$$\n",
    "\n",
    "\n",
    "Now we still using the uniform mass density. $x^\\alpha$ is the $\\alpha$-th component of the position vector.\n",
    "\n",
    "So we can integrate on each tetrahedron, consider the parameterization of the tetrahedron, we have:\n",
    "\n",
    "$$\n",
    "\\begin{align}\n",
    "\\rho \\int_{\\Omega_i} x^\\alpha dV \\\\\n",
    "= \\rho \\int_{\\Omega_i} (p_0^\\alpha + e_1^\\alpha u + e_2^\\alpha v + e_3^\\alpha w) det(e_1,e_2,e_3) du dv dw \\\\\n",
    "= \\rho det(e_1,e_2,e_3) \\int_{\\Omega_i} (p_0^\\alpha + e_1^\\alpha u + e_2^\\alpha v + e_3^\\alpha w) du dv dw\n",
    "\\end{align}\n",
    "$$\n",
    "\n",
    "Something we don't know is the integral term, we can directly calculate it using sympy."
   ]
  },
  {
   "cell_type": "code",
   "execution_count": 177,
   "metadata": {},
   "outputs": [
    {
     "data": {
      "text/latex": [
       "$\\displaystyle \\frac{e^{\\alpha}_{1}}{24} + \\frac{e^{\\alpha}_{2}}{24} + \\frac{e^{\\alpha}_{3}}{24} + \\frac{p^{\\alpha}_{0}}{6}$"
      ],
      "text/plain": [
       "e_1^alpha/24 + e_2^alpha/24 + e_3^alpha/24 + p_0^alpha/6"
      ]
     },
     "execution_count": 177,
     "metadata": {},
     "output_type": "execute_result"
    }
   ],
   "source": [
    "def integrate_V(f):\n",
    "    fvw = integrate(f, (u, 0, 1-v-w))\n",
    "    fw = integrate(fvw, (v, 0, 1-w))\n",
    "    f = integrate(fw, (w, 0, 1))\n",
    "    return f\n",
    "\n",
    "integrate_V(p_0a + e_1a*u + e_2a*v + e_3a*w)"
   ]
  },
  {
   "cell_type": "code",
   "execution_count": 178,
   "metadata": {},
   "outputs": [
    {
     "data": {
      "text/latex": [
       "$\\displaystyle \\frac{p^{\\alpha}_{0}}{24} + \\frac{p^{\\alpha}_{1}}{24} + \\frac{p^{\\alpha}_{2}}{24} + \\frac{p^{\\alpha}_{3}}{24}$"
      ],
      "text/plain": [
       "p_0^alpha/24 + p_1^alpha/24 + p_2^alpha/24 + p_3^alpha/24"
      ]
     },
     "execution_count": 178,
     "metadata": {},
     "output_type": "execute_result"
    }
   ],
   "source": [
    "integrate_V(p_0a + expr_e_1a*u + expr_e_2a*v + expr_e_3a*w)"
   ]
  },
  {
   "cell_type": "markdown",
   "metadata": {},
   "source": [
    "And let's go to the $(mx^\\alpha x^\\beta)$ term.\n",
    "\n",
    "We imagine that we need to calculate the second order integral over $u,v,w$, so just like the first order integral, we can calculate the coefficients of the terms."
   ]
  },
  {
   "cell_type": "markdown",
   "metadata": {},
   "source": [
    "It time to expand the $\\int_{\\Omega_i} \\rho x^\\alpha x^\\beta dV$ term.\n",
    "\n",
    "$$\n",
    "\\begin{align}\n",
    "\\int_{\\Omega_i} \\rho x^\\alpha x^\\beta dV\n",
    "= \\rho det(e_1,e_2,e_3) \\int_{\\Omega_i}(p_0^\\alpha + e_1^\\alpha u + e_2^\\alpha v + e_3^\\alpha w) (p_0^\\beta + e_1^\\beta u + e_2^\\beta v + e_3^\\beta w) du dv dw\n",
    "\\end{align}\n",
    "$$"
   ]
  },
  {
   "cell_type": "code",
   "execution_count": 179,
   "metadata": {},
   "outputs": [
    {
     "data": {
      "text/latex": [
       "$\\displaystyle \\frac{e^{\\alpha}_{1} e^{\\beta}_{1}}{60} + \\frac{e^{\\alpha}_{1} e^{\\beta}_{2}}{120} + \\frac{e^{\\alpha}_{1} e^{\\beta}_{3}}{120} + \\frac{e^{\\alpha}_{1} p^{\\beta}_{0}}{24} + \\frac{e^{\\beta}_{1} e^{\\alpha}_{2}}{120} + \\frac{e^{\\beta}_{1} e^{\\alpha}_{3}}{120} + \\frac{e^{\\beta}_{1} p^{\\alpha}_{0}}{24} + \\frac{e^{\\alpha}_{2} e^{\\beta}_{2}}{60} + \\frac{e^{\\alpha}_{2} e^{\\beta}_{3}}{120} + \\frac{e^{\\alpha}_{2} p^{\\beta}_{0}}{24} + \\frac{e^{\\beta}_{2} e^{\\alpha}_{3}}{120} + \\frac{e^{\\beta}_{2} p^{\\alpha}_{0}}{24} + \\frac{e^{\\alpha}_{3} e^{\\beta}_{3}}{60} + \\frac{e^{\\alpha}_{3} p^{\\beta}_{0}}{24} + \\frac{e^{\\beta}_{3} p^{\\alpha}_{0}}{24} + \\frac{p^{\\alpha}_{0} p^{\\beta}_{0}}{6}$"
      ],
      "text/plain": [
       "e_1^alpha*e_1^beta/60 + e_1^alpha*e_2^beta/120 + e_1^alpha*e_3^beta/120 + e_1^alpha*p_0^beta/24 + e_1^beta*e_2^alpha/120 + e_1^beta*e_3^alpha/120 + e_1^beta*p_0^alpha/24 + e_2^alpha*e_2^beta/60 + e_2^alpha*e_3^beta/120 + e_2^alpha*p_0^beta/24 + e_2^beta*e_3^alpha/120 + e_2^beta*p_0^alpha/24 + e_3^alpha*e_3^beta/60 + e_3^alpha*p_0^beta/24 + e_3^beta*p_0^alpha/24 + p_0^alpha*p_0^beta/6"
      ]
     },
     "execution_count": 179,
     "metadata": {},
     "output_type": "execute_result"
    }
   ],
   "source": [
    "P = (p_0a + e_1a * u + e_2a * v + e_3a * w) * (p_0b + e_1b * u + e_2b * v + e_3b * w)\n",
    "\n",
    "integrate_V(P)"
   ]
  },
  {
   "cell_type": "code",
   "execution_count": 180,
   "metadata": {},
   "outputs": [
    {
     "data": {
      "text/latex": [
       "$\\displaystyle \\frac{p^{\\alpha}_{0} p^{\\beta}_{0}}{60} + \\frac{p^{\\alpha}_{0} p^{\\beta}_{1}}{120} + \\frac{p^{\\alpha}_{0} p^{\\beta}_{2}}{120} + \\frac{p^{\\alpha}_{0} p^{\\beta}_{3}}{120} + \\frac{p^{\\beta}_{0} p^{\\alpha}_{1}}{120} + \\frac{p^{\\beta}_{0} p^{\\alpha}_{2}}{120} + \\frac{p^{\\beta}_{0} p^{\\alpha}_{3}}{120} + \\frac{p^{\\alpha}_{1} p^{\\beta}_{1}}{60} + \\frac{p^{\\alpha}_{1} p^{\\beta}_{2}}{120} + \\frac{p^{\\alpha}_{1} p^{\\beta}_{3}}{120} + \\frac{p^{\\beta}_{1} p^{\\alpha}_{2}}{120} + \\frac{p^{\\beta}_{1} p^{\\alpha}_{3}}{120} + \\frac{p^{\\alpha}_{2} p^{\\beta}_{2}}{60} + \\frac{p^{\\alpha}_{2} p^{\\beta}_{3}}{120} + \\frac{p^{\\beta}_{2} p^{\\alpha}_{3}}{120} + \\frac{p^{\\alpha}_{3} p^{\\beta}_{3}}{60}$"
      ],
      "text/plain": [
       "p_0^alpha*p_0^beta/60 + p_0^alpha*p_1^beta/120 + p_0^alpha*p_2^beta/120 + p_0^alpha*p_3^beta/120 + p_0^beta*p_1^alpha/120 + p_0^beta*p_2^alpha/120 + p_0^beta*p_3^alpha/120 + p_1^alpha*p_1^beta/60 + p_1^alpha*p_2^beta/120 + p_1^alpha*p_3^beta/120 + p_1^beta*p_2^alpha/120 + p_1^beta*p_3^alpha/120 + p_2^alpha*p_2^beta/60 + p_2^alpha*p_3^beta/120 + p_2^beta*p_3^alpha/120 + p_3^alpha*p_3^beta/60"
      ]
     },
     "execution_count": 180,
     "metadata": {},
     "output_type": "execute_result"
    }
   ],
   "source": [
    "P = (p_0a + expr_e_1a * u + expr_e_2a * v + expr_e_3a * w) * (p_0b + expr_e_1b * u + expr_e_2b * v + expr_e_3b * w)\n",
    "\n",
    "integrate_V(P)"
   ]
  },
  {
   "cell_type": "markdown",
   "metadata": {},
   "source": [
    "For body force, say, we have a uniform force density $f \\in R^3$, the body force we need to solve for the affine body related to:\n",
    "\n",
    "$$\n",
    "\\int_{\\Omega} f^\\alpha dV = \\sum_{i=1}^N \\int_{\\Omega_i} f^\\alpha dV = \\sum_{i=1}^N f^\\alpha \\int_{\\Omega_i} dV\n",
    "$$\n",
    "\n",
    "and\n",
    "\n",
    "$$\n",
    "\\begin{align}\n",
    "  & \\int_{\\Omega} f^\\alpha x^\\alpha dV \\\\\n",
    "= & \\sum_{i=1}^N \\int_{\\Omega_i} f^\\alpha x^\\alpha dV \\\\\n",
    "= & \\sum_{i=1}^N f^\\alpha \\int_{\\Omega_i} x^\\alpha dV \\\\\n",
    "= & \\sum_{i=1}^N f^\\alpha det(e_1,e_2,e_3) \\int_{\\Omega_i} (p_0^\\alpha + e_1^\\alpha u + e_2^\\alpha v + e_3^\\alpha w) du dv dw\n",
    "\\end{align}\n",
    "$$"
   ]
  },
  {
   "cell_type": "code",
   "execution_count": 181,
   "metadata": {},
   "outputs": [
    {
     "data": {
      "text/latex": [
       "$\\displaystyle \\frac{e^{\\alpha}_{1}}{24} + \\frac{e^{\\alpha}_{2}}{24} + \\frac{e^{\\alpha}_{3}}{24} + \\frac{p^{\\alpha}_{0}}{6}$"
      ],
      "text/plain": [
       "e_1^alpha/24 + e_2^alpha/24 + e_3^alpha/24 + p_0^alpha/6"
      ]
     },
     "execution_count": 181,
     "metadata": {},
     "output_type": "execute_result"
    }
   ],
   "source": [
    "integrate_V(p_0a + e_1a*u + e_2a*v + e_3a*w)"
   ]
  },
  {
   "cell_type": "code",
   "execution_count": 182,
   "metadata": {},
   "outputs": [
    {
     "data": {
      "text/latex": [
       "$\\displaystyle \\frac{p^{\\alpha}_{0}}{24} + \\frac{p^{\\alpha}_{1}}{24} + \\frac{p^{\\alpha}_{2}}{24} + \\frac{p^{\\alpha}_{3}}{24}$"
      ],
      "text/plain": [
       "p_0^alpha/24 + p_1^alpha/24 + p_2^alpha/24 + p_3^alpha/24"
      ]
     },
     "execution_count": 182,
     "metadata": {},
     "output_type": "execute_result"
    }
   ],
   "source": [
    "integrate_V(p_0a + expr_e_1a*u + expr_e_2a*v + expr_e_3a*w)"
   ]
  },
  {
   "cell_type": "markdown",
   "metadata": {},
   "source": [
    "# Surface Integral\n",
    "\n",
    "We can also use the divergence theorem to convert the volume integral to a surface integral.\n",
    "\n",
    "In this way, we need user to provide a closed triangle mesh of the body.\n",
    "\n",
    "Say for triangle $i$, we have vertices $p_0, p_1, p_2$, we define:\n",
    "\n",
    "$$\n",
    "e_1 = p_1 - p_0, e_2 = p_2 - p_0\n",
    "$$\n",
    "\n",
    "and the corresponding parameterization of any point $p$ in the triangle is:\n",
    "\n",
    "$$\n",
    "p = p_0 + e_1 u + e_2 v, u,v \\in [0,1], u+v \\le 1\n",
    "$$\n",
    "\n",
    "The volume of the body is:\n",
    "\n",
    "$$\n",
    "V = \\int_{\\Omega} dV = \\sum_{i=1}^N \\int_{\\Omega_i} dV = \\sum_{i=1}^N \\int_{\\partial \\Omega_i} \\vec{F} \\cdot d\\vec{S},\n",
    "$$\n",
    "\n",
    "where $\\nabla \\cdot \\vec{F} = 1$. We just choose $\\vec{F} = p/3 = [x,y,z]^T/3$. \n",
    "\n",
    "Let's calculate the surface integral.\n",
    "\n",
    "$$\n",
    "\\begin{align}\n",
    "&\\int_{\\partial \\Omega_i} \\vec{F} \\cdot d\\vec{S} \\\\\n",
    "&= \\int_{\\partial \\Omega_i} \\frac{1}{3} p \\cdot d\\vec{S} \\\\\n",
    "&= \\frac{1}{3} \\int_{\\partial \\Omega_i} (p_0 + e_1 u + e_2 v) \\cdot d\\vec{S}\\\\\n",
    "&= \\frac{1}{3} p_0 \\cdot (e_1 \\times e_2) \\int_{\\partial \\Omega_i} dudv\n",
    "+ \\cancel{\\frac{1}{3} e_1 \\cdot (e_1 \\times e_2) \\int_{\\partial \\Omega_i} u dudv}\n",
    "+ \\cancel{\\frac{1}{3} e_2 \\cdot (e_1 \\times e_2) \\int_{\\partial \\Omega_i} v dudv}\\\\\n",
    "&= \\frac{1}{3} p_0 \\cdot {e_1 \\times e_2} \\int_{\\partial \\Omega_i} dudv \\\\\n",
    "&= \\frac{1}{3} det(p_0, e_1, e_2) \\int_0^1 \\int_0^{1-v}  dudv\n",
    "\\end{align}\n",
    "$$\n",
    "\n",
    "$$\n",
    "(p_1 - p_0) \\times (p_2 - p_0) = p_1 \\times p_2 - p_1 \\times p_0 - p_0 \\times p_2 + p_0 \\times p_0\n",
    "= p_1 \\times p_2 - p_1 \\times p_0 - p_0 \\times p_2\n",
    "$$\n",
    "\n",
    "$$\n",
    "p_0 \\cdot (p_1 \\times p_2 - p_1 \\times p_0 - p_0 \\times p_2)\n",
    "= p_0 \\cdot (p_1 \\times p_2) - p_0 \\cdot (p_1 \\times p_0) - p_0 \\cdot (p_0 \\times p_2)\n",
    "= p_0 \\cdot (p_1 \\times p_2)\n",
    "= det(p_0, p_1, p_2)\n",
    "$$\n",
    "\n",
    "Let's calculate the integral using sympy."
   ]
  },
  {
   "cell_type": "code",
   "execution_count": 183,
   "metadata": {},
   "outputs": [
    {
     "data": {
      "text/latex": [
       "$\\displaystyle \\frac{1}{2}$"
      ],
      "text/plain": [
       "1/2"
      ]
     },
     "execution_count": 183,
     "metadata": {},
     "output_type": "execute_result"
    }
   ],
   "source": [
    "def integrate_S(f):\n",
    "    fv = integrate(f, (u, 0, 1-v))\n",
    "    f = integrate(fv, (v, 0, 1))\n",
    "    return f\n",
    "\n",
    "I_dudv = integrate_S(1)\n",
    "\n",
    "I_dudv"
   ]
  },
  {
   "cell_type": "markdown",
   "metadata": {},
   "source": [
    "So we have:\n",
    "\n",
    "$$\n",
    "\\int_0^1 \\int_0^{1-v}  dudv = \\frac{1}{2}\n",
    "$$\n",
    "\n",
    "So the surface integral is:\n",
    "\n",
    "$$\n",
    "\\int_{\\partial \\Omega_i} \\vec{F} \\cdot d\\vec{S} = \\frac{1}{6} det(p_0, e_1, e_2) = \\frac{1}{6} det(p_0, p_1, p_2)\n",
    "$$\n",
    "\n",
    "Then we can calculate the mass matrix of the body (with uniform mass density) using the surface integral.\n",
    "\n",
    "$$\n",
    "m = \\int_{\\Omega} \\rho dV = \\sum_{i=1}^{N} \\frac{1}{6} \\rho det(p_0, p_1, p_2)_i\n",
    "$$\n",
    "\n",
    "And we can also calculate the $(mx^\\alpha)$ and $(mx^\\alpha x^\\beta)$ terms.\n",
    "\n",
    "$$\n",
    "\\begin{align}\n",
    "& (mx^\\alpha) \\\\\n",
    "= & \\int_{\\Omega} \\rho x^\\alpha dV \\\\\n",
    "= & \\sum_{i=1}^N \\int_{\\Omega_i} \\rho x^\\alpha dV \\\\\n",
    "= & \\sum_{i=1}^N \\int_{\\partial \\Omega_i} \\vec{F}^\\alpha d\\vec{S} \\\\\n",
    "\\end{align}\n",
    "$$\n",
    "\n",
    "where $\\nabla \\cdot \\vec{F}^\\alpha = \\rho p^\\alpha$, we just choose:\n",
    " \n",
    "$$\n",
    "\\vec{F}^\\alpha = \n",
    "\\frac{1}{2} \\rho (p^\\alpha)^2 \\cdot \\hat{i}^\\alpha\n",
    "$$\n",
    "\n",
    "where $\\hat{i}^\\alpha$ is the $\\alpha$-th unit vector:\n",
    "\n",
    "$$\n",
    "\\hat{i}^1 = [1,0,0]^T, \\hat{i}^2 = [0,1,0]^T, \\hat{i}^3 = [0,0,1]^T\n",
    "$$\n",
    "\n",
    "Plug in the parameterization of the triangle, we have:\n",
    "\n",
    "$$\n",
    "\\begin{align}\n",
    " &\\int_{\\partial \\Omega_i} \\vec{F}^\\alpha \\cdot d\\vec{S} \\\\\n",
    "=& \\int_{\\partial \\Omega_i} \\frac{1}{2} \\rho (p^\\alpha)^2 N^\\alpha dudv \\\\\n",
    "=& \\frac{1}{2} \\rho N^\\alpha \\int_{\\partial \\Omega_i} (p_0^\\alpha  + e_1^\\alpha  u + e_2^\\alpha  v)^2 dudv\n",
    "\\end{align}\n",
    "$$"
   ]
  },
  {
   "cell_type": "code",
   "execution_count": 184,
   "metadata": {},
   "outputs": [
    {
     "data": {
      "text/latex": [
       "$\\displaystyle \\frac{\\left(e^{\\alpha}_{1}\\right)^{2}}{12} + \\frac{e^{\\alpha}_{1} e^{\\alpha}_{2}}{12} + \\frac{e^{\\alpha}_{1} p^{\\alpha}_{0}}{3} + \\frac{\\left(e^{\\alpha}_{2}\\right)^{2}}{12} + \\frac{e^{\\alpha}_{2} p^{\\alpha}_{0}}{3} + \\frac{\\left(p^{\\alpha}_{0}\\right)^{2}}{2}$"
      ],
      "text/plain": [
       "e_1^alpha**2/12 + e_1^alpha*e_2^alpha/12 + e_1^alpha*p_0^alpha/3 + e_2^alpha**2/12 + e_2^alpha*p_0^alpha/3 + p_0^alpha**2/2"
      ]
     },
     "execution_count": 184,
     "metadata": {},
     "output_type": "execute_result"
    }
   ],
   "source": [
    "p_a = p_0a + e_1a * u + e_2a * v\n",
    "\n",
    "P = expand(p_a * p_a)\n",
    "\n",
    "integrate_S(P)"
   ]
  },
  {
   "cell_type": "code",
   "execution_count": 185,
   "metadata": {},
   "outputs": [
    {
     "data": {
      "text/latex": [
       "$\\displaystyle \\frac{\\left(p^{\\alpha}_{0}\\right)^{2}}{12} + \\frac{p^{\\alpha}_{0} p^{\\alpha}_{1}}{12} + \\frac{p^{\\alpha}_{0} p^{\\alpha}_{2}}{12} + \\frac{\\left(p^{\\alpha}_{1}\\right)^{2}}{12} + \\frac{p^{\\alpha}_{1} p^{\\alpha}_{2}}{12} + \\frac{\\left(p^{\\alpha}_{2}\\right)^{2}}{12}$"
      ],
      "text/plain": [
       "p_0^alpha**2/12 + p_0^alpha*p_1^alpha/12 + p_0^alpha*p_2^alpha/12 + p_1^alpha**2/12 + p_1^alpha*p_2^alpha/12 + p_2^alpha**2/12"
      ]
     },
     "execution_count": 185,
     "metadata": {},
     "output_type": "execute_result"
    }
   ],
   "source": [
    "p_a = p_0a + expr_e_1a * u + expr_e_2a * v\n",
    "\n",
    "P = expand(p_a * p_a)\n",
    "\n",
    "integrate_S(P)"
   ]
  },
  {
   "cell_type": "markdown",
   "metadata": {},
   "source": [
    "$$\n",
    "\\begin{align}\n",
    "& (mx^\\alpha x^\\beta) \\\\\n",
    "= & \\int_{\\Omega} \\rho x^\\alpha x^\\beta dV \\\\\n",
    "= & \\sum_{i=1}^N \\int_{\\Omega_i} \\rho x^\\alpha x^\\beta dV \\\\\n",
    "= &\\sum_{i=1}^N \\int_{\\partial \\Omega_i} \\vec{F}^{\\alpha\\beta} d\\vec{S}\n",
    "\\end{align}\n",
    "$$\n",
    "\n",
    "When $\\alpha = \\beta$, we choose:\n",
    "\n",
    "$$\n",
    "\\vec{F}^{\\alpha\\alpha} = \\frac{1}{3} \\rho (p^\\alpha)^3 \\cdot \\hat{i}^\\alpha\n",
    "$$\n",
    "\n",
    "$$\n",
    "\\begin{align}\n",
    "& \\int_{\\partial \\Omega_i} \\vec{F}^{\\alpha\\alpha} \\cdot d\\vec{S} \\\\\n",
    "= & \\int_{\\partial \\Omega_i} \\frac{1}{3} \\rho (p^\\alpha)^3 N^\\alpha dudv \\\\\n",
    "= & \\frac{1}{3} \\rho N^\\alpha \\int_{\\partial \\Omega_i} (p_0^\\alpha  + e_1^\\alpha  u + e_2^\\alpha  v)^3 dudv\n",
    "\\end{align}\n",
    "$$\n",
    "\n",
    "let's calculate the integrals using sympy."
   ]
  },
  {
   "cell_type": "code",
   "execution_count": 186,
   "metadata": {},
   "outputs": [
    {
     "data": {
      "text/latex": [
       "$\\displaystyle \\frac{\\left(p^{\\alpha}_{0}\\right)^{3}}{20} + \\frac{\\left(p^{\\alpha}_{0}\\right)^{2} p^{\\alpha}_{1}}{20} + \\frac{\\left(p^{\\alpha}_{0}\\right)^{2} p^{\\alpha}_{2}}{20} + \\frac{p^{\\alpha}_{0} \\left(p^{\\alpha}_{1}\\right)^{2}}{20} + \\frac{p^{\\alpha}_{0} p^{\\alpha}_{1} p^{\\alpha}_{2}}{20} + \\frac{p^{\\alpha}_{0} \\left(p^{\\alpha}_{2}\\right)^{2}}{20} + \\frac{\\left(p^{\\alpha}_{1}\\right)^{3}}{20} + \\frac{\\left(p^{\\alpha}_{1}\\right)^{2} p^{\\alpha}_{2}}{20} + \\frac{p^{\\alpha}_{1} \\left(p^{\\alpha}_{2}\\right)^{2}}{20} + \\frac{\\left(p^{\\alpha}_{2}\\right)^{3}}{20}$"
      ],
      "text/plain": [
       "p_0^alpha**3/20 + p_0^alpha**2*p_1^alpha/20 + p_0^alpha**2*p_2^alpha/20 + p_0^alpha*p_1^alpha**2/20 + p_0^alpha*p_1^alpha*p_2^alpha/20 + p_0^alpha*p_2^alpha**2/20 + p_1^alpha**3/20 + p_1^alpha**2*p_2^alpha/20 + p_1^alpha*p_2^alpha**2/20 + p_2^alpha**3/20"
      ]
     },
     "execution_count": 186,
     "metadata": {},
     "output_type": "execute_result"
    }
   ],
   "source": [
    "P = expand(p_a**3)\n",
    "\n",
    "integrate_S(P)"
   ]
  },
  {
   "cell_type": "markdown",
   "metadata": {},
   "source": [
    "If $\\alpha \\neq \\beta$, we choose:\n",
    "\n",
    "$$\n",
    "\\vec{F}^{\\alpha\\beta} = \\frac{1}{2} \\rho (p^\\alpha)^2 p^\\beta \\cdot \\hat{i}^\\alpha\n",
    "$$\n",
    "\n",
    "E.g. for $\\alpha = x, \\beta = y$\n",
    "\n",
    "$$\n",
    "\\vec{F}^{x,y} = \n",
    "\\begin{bmatrix}\n",
    "\\frac{1}{2} \\rho x^2 y \\\\ \n",
    "0 \\\\\n",
    "0 \\\\\n",
    "\\end{bmatrix}\n",
    "$$\n",
    "\n",
    "So we have:\n",
    "\n",
    "$$\n",
    "\\begin{align}\n",
    "& \\int_{\\partial \\Omega_i} \\vec{F}^{\\alpha\\beta} \\cdot d\\vec{S} \\\\\n",
    "= & \\int_{\\partial \\Omega_i} \\frac{1}{2} \\rho (p^\\alpha)^2 p^\\beta N^\\alpha dudv \\\\\n",
    "= & \\frac{1}{2} \\rho N^\\alpha \\int_{\\partial \\Omega_i} (p_0^\\alpha  + e_1^\\alpha  u + e_2^\\alpha  v)^2 (p_0^\\beta  + e_1^\\beta  u + e_2^\\beta  v) dudv\n",
    "\\end{align}\n",
    "$$\n",
    "\n",
    "we can calculate the integrals using sympy."
   ]
  },
  {
   "cell_type": "code",
   "execution_count": 187,
   "metadata": {},
   "outputs": [
    {
     "data": {
      "text/latex": [
       "$\\displaystyle \\frac{\\left(e^{\\alpha}_{1}\\right)^{2} e^{\\beta}_{1}}{20} + \\frac{\\left(e^{\\alpha}_{1}\\right)^{2} e^{\\beta}_{2}}{60} + \\frac{\\left(e^{\\alpha}_{1}\\right)^{2} p^{\\beta}_{0}}{12} + \\frac{e^{\\alpha}_{1} e^{\\beta}_{1} e^{\\alpha}_{2}}{30} + \\frac{e^{\\alpha}_{1} e^{\\beta}_{1} p^{\\alpha}_{0}}{6} + \\frac{e^{\\alpha}_{1} e^{\\alpha}_{2} e^{\\beta}_{2}}{30} + \\frac{e^{\\alpha}_{1} e^{\\alpha}_{2} p^{\\beta}_{0}}{12} + \\frac{e^{\\alpha}_{1} e^{\\beta}_{2} p^{\\alpha}_{0}}{12} + \\frac{e^{\\alpha}_{1} p^{\\alpha}_{0} p^{\\beta}_{0}}{3} + \\frac{e^{\\beta}_{1} \\left(e^{\\alpha}_{2}\\right)^{2}}{60} + \\frac{e^{\\beta}_{1} e^{\\alpha}_{2} p^{\\alpha}_{0}}{12} + \\frac{e^{\\beta}_{1} \\left(p^{\\alpha}_{0}\\right)^{2}}{6} + \\frac{\\left(e^{\\alpha}_{2}\\right)^{2} e^{\\beta}_{2}}{20} + \\frac{\\left(e^{\\alpha}_{2}\\right)^{2} p^{\\beta}_{0}}{12} + \\frac{e^{\\alpha}_{2} e^{\\beta}_{2} p^{\\alpha}_{0}}{6} + \\frac{e^{\\alpha}_{2} p^{\\alpha}_{0} p^{\\beta}_{0}}{3} + \\frac{e^{\\beta}_{2} \\left(p^{\\alpha}_{0}\\right)^{2}}{6} + \\frac{\\left(p^{\\alpha}_{0}\\right)^{2} p^{\\beta}_{0}}{2}$"
      ],
      "text/plain": [
       "e_1^alpha**2*e_1^beta/20 + e_1^alpha**2*e_2^beta/60 + e_1^alpha**2*p_0^beta/12 + e_1^alpha*e_1^beta*e_2^alpha/30 + e_1^alpha*e_1^beta*p_0^alpha/6 + e_1^alpha*e_2^alpha*e_2^beta/30 + e_1^alpha*e_2^alpha*p_0^beta/12 + e_1^alpha*e_2^beta*p_0^alpha/12 + e_1^alpha*p_0^alpha*p_0^beta/3 + e_1^beta*e_2^alpha**2/60 + e_1^beta*e_2^alpha*p_0^alpha/12 + e_1^beta*p_0^alpha**2/6 + e_2^alpha**2*e_2^beta/20 + e_2^alpha**2*p_0^beta/12 + e_2^alpha*e_2^beta*p_0^alpha/6 + e_2^alpha*p_0^alpha*p_0^beta/3 + e_2^beta*p_0^alpha**2/6 + p_0^alpha**2*p_0^beta/2"
      ]
     },
     "execution_count": 187,
     "metadata": {},
     "output_type": "execute_result"
    }
   ],
   "source": [
    "p_a = p_0a + e_1a * u + e_2a * v\n",
    "p_b = p_0b + e_1b * u + e_2b * v\n",
    "\n",
    "\n",
    "P = expand(p_a**2 * p_b)\n",
    "\n",
    "integrate_S(P)"
   ]
  },
  {
   "cell_type": "code",
   "execution_count": 188,
   "metadata": {},
   "outputs": [
    {
     "data": {
      "text/latex": [
       "$\\displaystyle \\frac{\\left(p^{\\alpha}_{0}\\right)^{2} p^{\\beta}_{0}}{20} + \\frac{\\left(p^{\\alpha}_{0}\\right)^{2} p^{\\beta}_{1}}{60} + \\frac{\\left(p^{\\alpha}_{0}\\right)^{2} p^{\\beta}_{2}}{60} + \\frac{p^{\\alpha}_{0} p^{\\beta}_{0} p^{\\alpha}_{1}}{30} + \\frac{p^{\\alpha}_{0} p^{\\beta}_{0} p^{\\alpha}_{2}}{30} + \\frac{p^{\\alpha}_{0} p^{\\alpha}_{1} p^{\\beta}_{1}}{30} + \\frac{p^{\\alpha}_{0} p^{\\alpha}_{1} p^{\\beta}_{2}}{60} + \\frac{p^{\\alpha}_{0} p^{\\beta}_{1} p^{\\alpha}_{2}}{60} + \\frac{p^{\\alpha}_{0} p^{\\alpha}_{2} p^{\\beta}_{2}}{30} + \\frac{p^{\\beta}_{0} \\left(p^{\\alpha}_{1}\\right)^{2}}{60} + \\frac{p^{\\beta}_{0} p^{\\alpha}_{1} p^{\\alpha}_{2}}{60} + \\frac{p^{\\beta}_{0} \\left(p^{\\alpha}_{2}\\right)^{2}}{60} + \\frac{\\left(p^{\\alpha}_{1}\\right)^{2} p^{\\beta}_{1}}{20} + \\frac{\\left(p^{\\alpha}_{1}\\right)^{2} p^{\\beta}_{2}}{60} + \\frac{p^{\\alpha}_{1} p^{\\beta}_{1} p^{\\alpha}_{2}}{30} + \\frac{p^{\\alpha}_{1} p^{\\alpha}_{2} p^{\\beta}_{2}}{30} + \\frac{p^{\\beta}_{1} \\left(p^{\\alpha}_{2}\\right)^{2}}{60} + \\frac{\\left(p^{\\alpha}_{2}\\right)^{2} p^{\\beta}_{2}}{20}$"
      ],
      "text/plain": [
       "p_0^alpha**2*p_0^beta/20 + p_0^alpha**2*p_1^beta/60 + p_0^alpha**2*p_2^beta/60 + p_0^alpha*p_0^beta*p_1^alpha/30 + p_0^alpha*p_0^beta*p_2^alpha/30 + p_0^alpha*p_1^alpha*p_1^beta/30 + p_0^alpha*p_1^alpha*p_2^beta/60 + p_0^alpha*p_1^beta*p_2^alpha/60 + p_0^alpha*p_2^alpha*p_2^beta/30 + p_0^beta*p_1^alpha**2/60 + p_0^beta*p_1^alpha*p_2^alpha/60 + p_0^beta*p_2^alpha**2/60 + p_1^alpha**2*p_1^beta/20 + p_1^alpha**2*p_2^beta/60 + p_1^alpha*p_1^beta*p_2^alpha/30 + p_1^alpha*p_2^alpha*p_2^beta/30 + p_1^beta*p_2^alpha**2/60 + p_2^alpha**2*p_2^beta/20"
      ]
     },
     "execution_count": 188,
     "metadata": {},
     "output_type": "execute_result"
    }
   ],
   "source": [
    "p_a = p_0a + expr_e_1a * u + expr_e_2a * v\n",
    "p_b = p_0b + expr_e_1b * u + expr_e_2b * v\n",
    "\n",
    "P = expand(p_a**2 * p_b)\n",
    "\n",
    "integrate_S(P)"
   ]
  },
  {
   "cell_type": "markdown",
   "metadata": {},
   "source": [
    "When we calculate the body force, we need to solve for the affine body related to $\\int_{\\Omega} f^\\alpha dV$ and $\\int_{\\Omega} f^\\alpha x^\\alpha dV$. \n",
    "\n",
    "$$\n",
    "\\begin{align}\n",
    "  & \\int_{\\Omega} f^\\alpha dV \\\\\n",
    "= & \\sum_{i=1}^N \\int_{\\Omega_i} f^\\alpha dV \\\\ \n",
    "= & \\sum_{i=1}^N f^\\alpha \\int_{\\Omega_i} dV \\\\\n",
    "= & \\sum_{i=1}^N f^\\alpha \\int_{\\partial \\Omega_i} \\vec{F} d\\vec{S}\n",
    "\\end{align}\n",
    "$$\n",
    "\n",
    "we choose $\\vec{F} = \\frac{1}{3} p \\cdot \\hat{i}^\\alpha$.\n",
    "\n",
    "$$\n",
    "\\sum_{i=1}^N f^\\alpha \\int_{\\partial \\Omega_i} \\vec{F} d\\vec{S} = \\sum_{i=1}^N \\frac{1}{6} f^\\alpha det(p_0, e_1, e_2)_i\n",
    "$$\n"
   ]
  },
  {
   "cell_type": "markdown",
   "metadata": {},
   "source": [
    "$$\n",
    "\\begin{align}\n",
    "  & \\int_{\\Omega} f^\\alpha x^\\alpha dV \\\\\n",
    "= & \\sum_{i=1}^N \\int_{\\Omega_i} f^\\alpha x^\\alpha dV \\\\\n",
    "= & \\sum_{i=1}^N f^\\alpha \\int_{\\Omega_i} x^\\alpha dV \\\\\n",
    "= & \\sum_{i=1}^N f^\\alpha \\int_{\\partial \\Omega_i} \\vec{F}^\\alpha d\\vec{S}\n",
    "= & \\sum_{i=1}^N \\frac{1}{2}  f^\\alpha N^\\alpha \\int_{\\partial \\Omega_i} (p_0^\\alpha  + e_1^\\alpha  u + e_2^\\alpha  v)^2 dudv\n",
    "\\end{align}\n",
    "$$\n",
    "\n",
    "We choose $\\vec{F}^\\alpha = \\frac{1}{2} (p^\\alpha)^2 \\cdot \\hat{i}^\\alpha$."
   ]
  },
  {
   "cell_type": "code",
   "execution_count": 189,
   "metadata": {},
   "outputs": [
    {
     "data": {
      "text/latex": [
       "$\\displaystyle \\frac{\\left(e^{\\alpha}_{1}\\right)^{2}}{12} + \\frac{e^{\\alpha}_{1} e^{\\alpha}_{2}}{12} + \\frac{e^{\\alpha}_{1} p^{\\alpha}_{0}}{3} + \\frac{\\left(e^{\\alpha}_{2}\\right)^{2}}{12} + \\frac{e^{\\alpha}_{2} p^{\\alpha}_{0}}{3} + \\frac{\\left(p^{\\alpha}_{0}\\right)^{2}}{2}$"
      ],
      "text/plain": [
       "e_1^alpha**2/12 + e_1^alpha*e_2^alpha/12 + e_1^alpha*p_0^alpha/3 + e_2^alpha**2/12 + e_2^alpha*p_0^alpha/3 + p_0^alpha**2/2"
      ]
     },
     "execution_count": 189,
     "metadata": {},
     "output_type": "execute_result"
    }
   ],
   "source": [
    "p_a = p_0a + e_1a * u + e_2a * v\n",
    "\n",
    "P = expand(p_a * p_a)\n",
    "\n",
    "integrate_S(P)"
   ]
  },
  {
   "cell_type": "code",
   "execution_count": 190,
   "metadata": {},
   "outputs": [
    {
     "data": {
      "text/latex": [
       "$\\displaystyle \\frac{\\left(p^{\\alpha}_{0}\\right)^{2}}{12} + \\frac{p^{\\alpha}_{0} p^{\\alpha}_{1}}{12} + \\frac{p^{\\alpha}_{0} p^{\\alpha}_{2}}{12} + \\frac{\\left(p^{\\alpha}_{1}\\right)^{2}}{12} + \\frac{p^{\\alpha}_{1} p^{\\alpha}_{2}}{12} + \\frac{\\left(p^{\\alpha}_{2}\\right)^{2}}{12}$"
      ],
      "text/plain": [
       "p_0^alpha**2/12 + p_0^alpha*p_1^alpha/12 + p_0^alpha*p_2^alpha/12 + p_1^alpha**2/12 + p_1^alpha*p_2^alpha/12 + p_2^alpha**2/12"
      ]
     },
     "execution_count": 190,
     "metadata": {},
     "output_type": "execute_result"
    }
   ],
   "source": [
    "p_a = p_0a + expr_e_1a * u + expr_e_2a * v\n",
    "P = expand(p_a * p_a)\n",
    "\n",
    "integrate_S(P)"
   ]
  }
 ],
 "metadata": {
  "kernelspec": {
   "display_name": "uipc_env",
   "language": "python",
   "name": "python3"
  },
  "language_info": {
   "codemirror_mode": {
    "name": "ipython",
    "version": 3
   },
   "file_extension": ".py",
   "mimetype": "text/x-python",
   "name": "python",
   "nbconvert_exporter": "python",
   "pygments_lexer": "ipython3",
   "version": "3.10.15"
  },
  "orig_nbformat": 4
 },
 "nbformat": 4,
 "nbformat_minor": 2
}
